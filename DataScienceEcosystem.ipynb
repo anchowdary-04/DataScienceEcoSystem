{
 "cells": [
  {
   "cell_type": "markdown",
   "id": "f8571e6c-f6fd-4a25-b654-7b6fbfccc810",
   "metadata": {},
   "source": [
    "# Data Science Tools and Ecosystem"
   ]
  },
  {
   "cell_type": "markdown",
   "id": "be015b38-7986-462b-affc-33e2838f2ac6",
   "metadata": {},
   "source": [
    "In this notebook, Data Science Tools and Ecosystem are summarized."
   ]
  },
  {
   "cell_type": "markdown",
   "id": "241dc1b4-dcb0-4aed-9bf0-47c887892752",
   "metadata": {},
   "source": [
    "**Objectives:**\r\n",
    "\r\n",
    "- List popular languages for Data Science  \r\n",
    "- Identify commonly used libraries in Data Science  \r\n",
    "- Describe open-source tools used by Data Scientists  \r\n",
    "- Demonstrate arithmetic expressions in Python  \r\n",
    "- Convert units using Pytho code\r\n"
   ]
  },
  {
   "cell_type": "markdown",
   "id": "80215c4c-f0ca-4303-b859-b57fd0213a3d",
   "metadata": {},
   "source": [
    "Some of the popular languages that Data Scientists use are:\r\n",
    "\r\n",
    "1. Python  \r\n",
    "2. R  \r\n",
    "3. SQL  \r\n",
    "4. Java  \r\n",
    "5. Julia\r\n"
   ]
  },
  {
   "cell_type": "markdown",
   "id": "641e8731-5824-4fcb-98c7-338d6d2a93ae",
   "metadata": {},
   "source": [
    "Some of the commonly used libraries used by Data Scientists include:\n",
    "\n",
    "1. Pandas  \n",
    "2. NumPy  \n",
    "3. Matplotlib  \n",
    "4. Scikit-learn  \n",
    "5. TensorFlow\n"
   ]
  },
  {
   "cell_type": "markdown",
   "id": "0833c9d7-cdbe-422c-8808-0b8ba8f88d65",
   "metadata": {},
   "source": [
    "| Data Science Tools        |\n",
    "|---------------------------|\n",
    "| Jupyter Notebook          |\n",
    "| RStudio                   |\n",
    "| Visual Studio Code (VS Code) |\n"
   ]
  },
  {
   "cell_type": "markdown",
   "id": "abbafc81-f866-4f12-b061-7e22b5da49cc",
   "metadata": {},
   "source": [
    "### Below are a few examples of evaluating arithmetic expressions in Python.\n"
   ]
  },
  {
   "cell_type": "code",
   "execution_count": 1,
   "id": "a6e3701b-46c1-4143-839f-89452e89e1e3",
   "metadata": {},
   "outputs": [
    {
     "data": {
      "text/plain": [
       "17"
      ]
     },
     "execution_count": 1,
     "metadata": {},
     "output_type": "execute_result"
    }
   ],
   "source": [
    "# This is a simple arithmetic expression to multiply then add integers\n",
    "(3 * 4) + 5\n"
   ]
  },
  {
   "cell_type": "code",
   "execution_count": 2,
   "id": "74a7fe64-f91c-444c-aef5-cff185b3030b",
   "metadata": {},
   "outputs": [
    {
     "data": {
      "text/plain": [
       "3.3333333333333335"
      ]
     },
     "execution_count": 2,
     "metadata": {},
     "output_type": "execute_result"
    }
   ],
   "source": [
    "# This will convert 200 minutes to hours by dividing by 60\n",
    "200 / 60"
   ]
  },
  {
   "cell_type": "markdown",
   "id": "497b61d2-70b7-4432-ad15-c2c2b32bb689",
   "metadata": {},
   "source": [
    "## Author\n",
    "\n",
    "A.Nisha Chowdary "
   ]
  },
  {
   "cell_type": "code",
   "execution_count": null,
   "id": "98892d00-7418-4283-bfe5-0dd8b541e459",
   "metadata": {},
   "outputs": [],
   "source": []
  }
 ],
 "metadata": {
  "kernelspec": {
   "display_name": "Python 3 (ipykernel)",
   "language": "python",
   "name": "python3"
  },
  "language_info": {
   "codemirror_mode": {
    "name": "ipython",
    "version": 3
   },
   "file_extension": ".py",
   "mimetype": "text/x-python",
   "name": "python",
   "nbconvert_exporter": "python",
   "pygments_lexer": "ipython3",
   "version": "3.11.7"
  }
 },
 "nbformat": 4,
 "nbformat_minor": 5
}
